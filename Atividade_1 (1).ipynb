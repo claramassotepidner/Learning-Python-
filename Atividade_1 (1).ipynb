{
  "nbformat": 4,
  "nbformat_minor": 0,
  "metadata": {
    "colab": {
      "provenance": []
    },
    "kernelspec": {
      "name": "python3",
      "display_name": "Python 3"
    },
    "language_info": {
      "name": "python"
    }
  },
  "cells": [
    {
      "cell_type": "code",
      "execution_count": null,
      "metadata": {
        "id": "TMpkmrzUyoP2"
      },
      "outputs": [],
      "source": [
        "# Clara Massote Pidner\n",
        "# Exercício 1 "
      ]
    },
    {
      "cell_type": "code",
      "source": [
        "# 1 - Implemente um algoritmo que retorne o valor da função abaixo após receber um valor qualquer de entrada:\n",
        "\n",
        "def algoritmo(x):\n",
        "  if x < -2 :\n",
        "    resultado = 2 * x + 2 \n",
        "  elif x >= 3 :\n",
        "    resultado = -x\n",
        "  else :\n",
        "    resultado = 3 \n",
        "  return resultado\n",
        "\n",
        "valor = algoritmo(-4)\n",
        "print(valor)\n"
      ],
      "metadata": {
        "id": "2qxZ73fByvCS",
        "colab": {
          "base_uri": "https://localhost:8080/"
        },
        "outputId": "04489c57-a00b-4393-ae8f-bebaa5d62bac"
      },
      "execution_count": null,
      "outputs": [
        {
          "output_type": "stream",
          "name": "stdout",
          "text": [
            "-6\n"
          ]
        }
      ]
    },
    {
      "cell_type": "code",
      "source": [
        "#2 - Faça um programa que receba 2 números e mostre o seguinte menu:\n",
        "\n",
        "# 1 - Somar os dois números\n",
        "# 2 - Multiplicar os dois números\n",
        "# 3 - Subtrair o número maior pelo número menor (se os dois forem iguais, retorne zero)\n",
        "# 4 - Dividir o primeiro número pelo segundo (lembre-se de que não existe divisão por zero)\n",
        "\n",
        "# De acordo com a opção escolhida, exiba o resultado correspondente.\n",
        "\n",
        "# Função para exibir o menu e retornar a escolha do usuário\n",
        "def exibir_menu():\n",
        "    print(\"Escolha uma operação:\")\n",
        "    print(\"1 - Somar ambos os números\")\n",
        "    print(\"2 - Multiplicar os números\")\n",
        "    print(\"3 - Subtrair o maior pelo menor número\")\n",
        "    print(\"4 - Dividir o primeiro pelo segundo número\")\n",
        "    escolha = input(\"Digite sua escolha (1/2/3/4): \")\n",
        "    return escolha\n",
        "\n",
        "# Função para realizar a operação selecionada pelo usuário\n",
        "def realizar_operacao(escolha, num1, num2):\n",
        "    if escolha == \"1\":\n",
        "        resultado = num1 + num2\n",
        "        operacao = \"+\"\n",
        "    elif escolha == \"2\":\n",
        "        resultado = num1 - num2\n",
        "        operacao = \"-\"\n",
        "    elif escolha == \"3\":\n",
        "        if num2 == 0: # para garantir que não haverá uma divisão por 0 \n",
        "            print(\"O segundo número não pode ser 0 para esta operação\")\n",
        "            return None\n",
        "        elif num1 > num2:\n",
        "            resultado = num1 - num2\n",
        "            operacao = \"-\"\n",
        "        else:\n",
        "            resultado = num2 - num1\n",
        "            operacao = \"-\"\n",
        "    elif escolha == \"4\":\n",
        "        if num2 == 0:\n",
        "            print(\"Não é possível dividir por 0\")\n",
        "            return None\n",
        "        resultado = num1 / num2\n",
        "        operacao = \"/\"\n",
        "    else:\n",
        "        print(\"Opção inválida\")\n",
        "        return None\n",
        "\n",
        "    print(f\"{num1} {operacao} {num2} = {resultado}\")\n",
        "    return resultado\n",
        "\n",
        "# Pedir ao usuário para digitar dois números\n",
        "num1 = float(input(\"Digite o primeiro número: \"))\n",
        "num2 = float(input(\"Digite o segundo número: \"))\n",
        "\n",
        "# Exibir o menu e obter a escolha do usuário\n",
        "escolha = exibir_menu()\n",
        "\n",
        "# Realizar a operação selecionada\n",
        "realizar_operacao(escolha, num1, num2)\n"
      ],
      "metadata": {
        "id": "BPMgvZmZy9e-",
        "colab": {
          "base_uri": "https://localhost:8080/"
        },
        "outputId": "b6a52354-b93c-4024-846c-d1a50668ef2b"
      },
      "execution_count": null,
      "outputs": [
        {
          "output_type": "stream",
          "name": "stdout",
          "text": [
            "Digite o primeiro número: 4\n",
            "Digite o segundo número: 7\n",
            "Escolha uma operação:\n",
            "1 - Somar ambos os números\n",
            "2 - Multiplicar os números\n",
            "3 - Subtrair o maior pelo menor número\n",
            "4 - Dividir o primeiro pelo segundo número\n",
            "Digite sua escolha (1/2/3/4): 3\n",
            "4.0 - 7.0 = 3.0\n"
          ]
        },
        {
          "output_type": "execute_result",
          "data": {
            "text/plain": [
              "3.0"
            ]
          },
          "metadata": {},
          "execution_count": 1
        }
      ]
    },
    {
      "cell_type": "code",
      "source": [
        "# 3 - Faça um programa que leia a Fpo de apartamento e a quanFdade de dias em que um hóspede esteve no hotel, e calcule o total a ser pago pelo mesmo.\n",
        "\n",
        "def escolha_o_apartamento():\n",
        "    print(\"Escolha qual apartamento:\")\n",
        "    print(\"1 - Apartamento simples\")\n",
        "    print(\"2 - Apartamento duplo\")\n",
        "    escolha_apto = int(input(\"Digite sua escolha (1 ou 2): \"))\n",
        "    return escolha_apto\n",
        "\n",
        "def diarias():\n",
        "  print(\"Quantos dias irá ficar no hotel? \")\n",
        "  num_diarias = int(input())\n",
        "  return num_diarias\n",
        "\n",
        "def calculo_diaria():\n",
        "    escolha_apto = escolha_o_apartamento()\n",
        "    num_diarias = diarias()\n",
        "\n",
        "    if escolha_apto == 1:\n",
        "        if num_diarias < 10: \n",
        "            valor_total = num_diarias * 100\n",
        "        elif num_diarias > 15:\n",
        "            valor_total = num_diarias * 80\n",
        "        else:\n",
        "            valor_total = num_diarias * 90\n",
        "    elif escolha_apto == 2:\n",
        "        if num_diarias < 10:\n",
        "            valor_total = num_diarias * 140\n",
        "        elif num_diarias > 15: \n",
        "            valor_total = num_diarias * 100\n",
        "        else:\n",
        "            valor_total = num_diarias * 120\n",
        "\n",
        "    print(f\"O valor total das diárias é {float(valor_total):.2f}\")\n",
        "\n",
        "calculo_diaria()\n"
      ],
      "metadata": {
        "id": "bnN3EO7DzGnT",
        "colab": {
          "base_uri": "https://localhost:8080/"
        },
        "outputId": "64054024-bc07-4674-9999-f37896122c13"
      },
      "execution_count": null,
      "outputs": [
        {
          "output_type": "stream",
          "name": "stdout",
          "text": [
            "Escolha qual apartamento:\n",
            "1 - Apartamento simples\n",
            "2 - Apartamento duplo\n",
            "Digite sua escolha (1 ou 2): 2\n",
            "Quantos dias irá ficar no hotel? \n",
            "16\n",
            "O valor total das diárias é 1600.00\n"
          ]
        }
      ]
    }
  ]
}